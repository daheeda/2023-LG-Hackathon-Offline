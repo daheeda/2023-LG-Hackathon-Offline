{
 "cells": [
  {
   "cell_type": "code",
   "execution_count": 22,
   "metadata": {
    "executionInfo": {
     "elapsed": 784,
     "status": "ok",
     "timestamp": 1679748995438,
     "user": {
      "displayName": "배홍섭",
      "userId": "04508707267981176802"
     },
     "user_tz": -540
    },
    "id": "WAKWIc4_9zF8",
    "tags": []
   },
   "outputs": [],
   "source": [
    "import pandas as pd\n",
    "import numpy as np\n",
    "import warnings\n",
    "warnings.filterwarnings(action='ignore')\n",
    "import catboost\n",
    "from catboost import *\n",
    "import sklearn\n",
    "from sklearn.preprocessing import LabelEncoder\n",
    "import sys\n",
    "\n",
    "from itertools import product\n",
    "from sklearn.tree import DecisionTreeClassifier\n",
    "from sklearn import metrics\n",
    "import copy"
   ]
  },
  {
   "cell_type": "code",
   "execution_count": 23,
   "metadata": {
    "executionInfo": {
     "elapsed": 1645,
     "status": "ok",
     "timestamp": 1679748997634,
     "user": {
      "displayName": "배홍섭",
      "userId": "04508707267981176802"
     },
     "user_tz": -540
    },
    "id": "-ccGkVon90Pa",
    "tags": []
   },
   "outputs": [],
   "source": [
    "train_df = pd.read_csv('train.csv')\n",
    "test = pd.read_csv('test.csv')\n",
    "submit = pd.read_csv('sample_submission.csv')"
   ]
  },
  {
   "cell_type": "code",
   "execution_count": 24,
   "metadata": {
    "executionInfo": {
     "elapsed": 7,
     "status": "ok",
     "timestamp": 1679748997635,
     "user": {
      "displayName": "배홍섭",
      "userId": "04508707267981176802"
     },
     "user_tz": -540
    },
    "id": "aRws7kXI94O3",
    "tags": []
   },
   "outputs": [],
   "source": [
    "def del_columns(train, test):\n",
    "    col_list = train.columns\n",
    "    nan_list = []\n",
    "    nan_cnt = []\n",
    "    nan_col = []\n",
    "    full_list = []\n",
    "    for col in col_list:\n",
    "        if train[col].isnull().sum() == 0 :\n",
    "            full_list.append(col)\n",
    "            continue\n",
    "        nan_list.append([col, train[col].isnull().sum()])\n",
    "        nan_cnt.append(train[col].isnull().sum())\n",
    "        nan_col.append(col)\n",
    "\n",
    "    del_col = []\n",
    "    for col in nan_list :\n",
    "        if col[1] == len(train) :\n",
    "            del_col.append(col[0])\n",
    "    train = train.drop(columns=del_col)\n",
    "    test = test.drop(columns=del_col)\n",
    "\n",
    "    del_col = []\n",
    "    col_list = train.describe().columns\n",
    "    for col in col_list :\n",
    "        if col == 'Y_Class':\n",
    "            continue\n",
    "        if col == 'Y_Quality':\n",
    "            continue\n",
    "        if col == 'LINE':\n",
    "            continue\n",
    "        if col == 'PRODUCT_CODE':\n",
    "            continue\n",
    "        if train[col].nunique()==1 :\n",
    "            del_col.append(col)\n",
    "    train = train.drop(columns=del_col)\n",
    "    test = test.drop(columns=del_col)\n",
    "    \n",
    "    return train,test\n",
    "\n",
    "def make_train_test_dataset(train,test):\n",
    "    \n",
    "    '''\n",
    "    트레인데이터, 학습데이터 셋 만들기\n",
    "    '''\n",
    "    \n",
    "    train_x = train.drop(columns=['PRODUCT_ID','PRODUCT_CODE','Y_Class','Y_Quality'])\n",
    "    test_x = test.drop(columns=['PRODUCT_ID','PRODUCT_CODE'])\n",
    "    train_y = train['Y_Quality']\n",
    "    train_w = train[['Y_Class']]\n",
    "    return train_x, test_x, train_y, train_w\n",
    "\n",
    "\n",
    "def fillna(train,test,value):\n",
    "    train = train.fillna(value)\n",
    "    test = test.fillna(value)\n",
    "    return train,test\n",
    "\n",
    "def labelencoder(train,test,col_list):\n",
    "    \n",
    "    qual_col = col_list\n",
    "    for i in qual_col:\n",
    "        le = LabelEncoder()\n",
    "        le = le.fit(train[i])\n",
    "        train[i] = le.transform(train[i])\n",
    "\n",
    "        for label in np.unique(test[i]): \n",
    "            if label not in le.classes_: \n",
    "                le.classes_ = np.append(le.classes_, label)\n",
    "        test[i] = le.transform(test[i]) \n",
    "    return train,test"
   ]
  },
  {
   "cell_type": "code",
   "execution_count": 25,
   "metadata": {
    "executionInfo": {
     "elapsed": 7,
     "status": "ok",
     "timestamp": 1679748997636,
     "user": {
      "displayName": "배홍섭",
      "userId": "04508707267981176802"
     },
     "user_tz": -540
    },
    "id": "HtZbUjO695l0",
    "tags": []
   },
   "outputs": [],
   "source": [
    "train, test = fillna(train_df,test,-1)\n",
    "train['PRODUCT_CODE'] = train['PRODUCT_CODE'].astype('category')\n",
    "train['LINE'] = train['LINE'].astype('category')\n",
    "test['PRODUCT_CODE'] = test['PRODUCT_CODE'].astype('category')\n",
    "test['LINE'] = test['LINE'].astype('category')"
   ]
  },
  {
   "cell_type": "code",
   "execution_count": 26,
   "metadata": {
    "executionInfo": {
     "elapsed": 6,
     "status": "ok",
     "timestamp": 1679748997636,
     "user": {
      "displayName": "배홍섭",
      "userId": "04508707267981176802"
     },
     "user_tz": -540
    },
    "id": "F89Ad2mYXY6n",
    "tags": []
   },
   "outputs": [],
   "source": [
    "rows_with_all_minus_one_tr = []\n",
    "\n",
    "# 2880번째 열부터 마지막 열까지 각 행에 대해 반복\n",
    "for index, row in train.iloc[:, 2880:].iterrows():\n",
    "    # 행의 모든 값이 -1인지 확인\n",
    "    if all(value == -1 for value in row):\n",
    "        rows_with_all_minus_one_tr.append(index)\n",
    "\n",
    "# 결과를 저장할 빈 데이터프레임 생성\n",
    "result_data_tr = train.iloc[rows_with_all_minus_one_tr]\n",
    "\n",
    "rows_with_all_minus_one_te = []\n",
    "\n",
    "# 2880번째 열부터 마지막 열까지 각 행에 대해 반복\n",
    "for index, row in test.iloc[:, 2880:].iterrows():\n",
    "    # 행의 모든 값이 -1인지 확인\n",
    "    if all(value == -1 for value in row):\n",
    "        rows_with_all_minus_one_te.append(index)\n",
    "\n",
    "# 결과를 저장할 빈 데이터프레임 생성\n",
    "result_data_te = test.iloc[rows_with_all_minus_one_te]\n",
    "\n",
    "train_bf = train.iloc[rows_with_all_minus_one_tr]\n",
    "test_bf = test.iloc[rows_with_all_minus_one_te]\n",
    "submit_bf = submit.iloc[rows_with_all_minus_one_te]\n",
    "\n",
    "train_af= train.drop(result_data_tr.index)\n",
    "test_af= test.drop(result_data_te.index)\n",
    "submit_af= submit.drop(result_data_te.index)\n",
    "\n",
    "train_bf = train_bf.reset_index(drop=True)\n",
    "test_bf = test_bf.reset_index(drop=True)\n",
    "\n",
    "train_af = train_af.reset_index(drop=True)\n",
    "test_af = test_af.reset_index(drop=True)"
   ]
  },
  {
   "cell_type": "code",
   "execution_count": 27,
   "metadata": {
    "executionInfo": {
     "elapsed": 434,
     "status": "ok",
     "timestamp": 1679748998064,
     "user": {
      "displayName": "배홍섭",
      "userId": "04508707267981176802"
     },
     "user_tz": -540
    },
    "id": "w4cM6SZNXbSb",
    "tags": []
   },
   "outputs": [],
   "source": [
    "def get_best_threshold_spliter(y_pred, y_true_cls, model=None, training=True):\n",
    "    if training:\n",
    "        search_space = [[2, 4, 6], [1, 3, 5, 7, 9]]\n",
    "        best_score = -np.inf\n",
    "        output_pred = []\n",
    "        model = None\n",
    "        for depth, min_samples in product(*search_space): \n",
    "            model = DecisionTreeClassifier(\n",
    "                criterion=\"gini\", max_features=1.0,\n",
    "                max_depth=depth, min_samples_leaf=min_samples, random_state=42\n",
    "            )\n",
    "            model.fit(y_pred, y_true_cls)\n",
    "            y_pred_cls = model.predict(y_pred)\n",
    "            score = metrics.f1_score(y_true_cls, y_pred_cls, average=\"macro\")\n",
    "            if best_score < score:\n",
    "                best_score = score\n",
    "                print(f\"Best score : {best_score}\")\n",
    "                output_pred = y_pred_cls.copy()\n",
    "                model = copy.deepcopy(model)\n",
    "        return model, output_pred\n",
    "    else:\n",
    "        output_pred = model.predict(y_pred)\n",
    "        return output_pred"
   ]
  },
  {
   "cell_type": "code",
   "execution_count": 28,
   "metadata": {
    "executionInfo": {
     "elapsed": 29333,
     "status": "ok",
     "timestamp": 1679749027395,
     "user": {
      "displayName": "배홍섭",
      "userId": "04508707267981176802"
     },
     "user_tz": -540
    },
    "id": "AKhbB_E4XeZb",
    "tags": []
   },
   "outputs": [],
   "source": [
    "train_bf, test_bf = del_columns(train_bf,test_bf)\n",
    "train_af, test_af = del_columns(train_af,test_af)"
   ]
  },
  {
   "cell_type": "code",
   "execution_count": 29,
   "metadata": {
    "executionInfo": {
     "elapsed": 5,
     "status": "ok",
     "timestamp": 1679749027396,
     "user": {
      "displayName": "배홍섭",
      "userId": "04508707267981176802"
     },
     "user_tz": -540
    },
    "id": "TlAJYyRjXgK7",
    "tags": []
   },
   "outputs": [],
   "source": [
    "train_x_bf, test_x_bf, train_y_bf, train_w_bf = make_train_test_dataset(train_bf,test_bf)\n",
    "train_x_af, test_x_af, train_y_af, train_w_af = make_train_test_dataset(train_af,test_af)"
   ]
  },
  {
   "cell_type": "code",
   "execution_count": 30,
   "metadata": {
    "colab": {
     "base_uri": "https://localhost:8080/"
    },
    "id": "oxBmE8uLaZCt",
    "outputId": "71af0bc8-14d0-4acd-95bc-781620d04890",
    "tags": []
   },
   "outputs": [],
   "source": [
    "train_x_bf = train_x_bf.T.drop_duplicates().T\n",
    "train_x_af = train_x_af.T.drop_duplicates().T\n",
    "\n",
    "test_x_bf = test_x_bf[train_x_bf.columns]\n",
    "test_x_af = test_x_af[train_x_af.columns]"
   ]
  },
  {
   "cell_type": "code",
   "execution_count": 31,
   "metadata": {
    "tags": []
   },
   "outputs": [
    {
     "data": {
      "text/plain": [
       "((765, 1719), (367, 290), (167, 2798), (368, 524))"
      ]
     },
     "execution_count": 31,
     "metadata": {},
     "output_type": "execute_result"
    }
   ],
   "source": [
    "train_x_bf.shape, train_x_af.shape, test_x_bf.shape, test_x_af.shape"
   ]
  },
  {
   "cell_type": "markdown",
   "metadata": {
    "id": "T1pX8Di6bzS7"
   },
   "source": [
    "#Train before"
   ]
  },
  {
   "cell_type": "code",
   "execution_count": 11,
   "metadata": {
    "id": "fHL9zDRzdw_Y",
    "tags": []
   },
   "outputs": [],
   "source": [
    "bf_stats = pd.DataFrame({\"qual\": train_y_bf, \"cls\": train_w_bf[\"Y_Class\"]}).groupby(\"cls\")[\"qual\"].describe()\n",
    "af_stats = pd.DataFrame({\"qual\": train_y_af, \"cls\": train_w_af[\"Y_Class\"]}).groupby(\"cls\")[\"qual\"].describe()"
   ]
  },
  {
   "cell_type": "code",
   "execution_count": 12,
   "metadata": {
    "id": "4zCr0FrVbi1u",
    "tags": []
   },
   "outputs": [],
   "source": [
    "clf = catboost.CatBoostRegressor(\n",
    "    learning_rate=0.05,\n",
    "    iterations=1000,\n",
    "    depth=6,\n",
    "    l2_leaf_reg=5,\n",
    "    border_count=254,\n",
    "    cat_features=['LINE'],\n",
    "    random_seed=313,\n",
    "    verbose=False,\n",
    ")"
   ]
  },
  {
   "cell_type": "code",
   "execution_count": 13,
   "metadata": {
    "id": "PymzmblYb1FX",
    "tags": []
   },
   "outputs": [],
   "source": [
    "clf.fit(train_x_bf, train_y_bf)\n",
    "train_pred_bf = clf.predict(train_x_bf)\n",
    "pred_bf = clf.predict(test_x_bf)"
   ]
  },
  {
   "cell_type": "code",
   "execution_count": 14,
   "metadata": {
    "id": "4k5rtgCob_IN",
    "tags": []
   },
   "outputs": [
    {
     "name": "stdout",
     "output_type": "stream",
     "text": [
      "Best score : 0.9606249652387597\n",
      "Best score : 0.9805198086421779\n",
      "Best score : 0.9929167675360938\n"
     ]
    }
   ],
   "source": [
    "reg_prob = np.abs(np.stack([\n",
    "    train_pred_bf - bf_stats.loc[0, \"mean\"],\n",
    "    train_pred_bf - bf_stats.loc[1, \"mean\"],\n",
    "    train_pred_bf - bf_stats.loc[2, \"mean\"],\n",
    "], axis=1))\n",
    "model_threshold, train_pred_bf = get_best_threshold_spliter(reg_prob, train_w_bf[\"Y_Class\"].values, training=True)\n",
    "\n",
    "reg_prob = np.abs(np.stack([\n",
    "    pred_bf - bf_stats.loc[0, \"mean\"],\n",
    "    pred_bf - bf_stats.loc[1, \"mean\"],\n",
    "    pred_bf - bf_stats.loc[2, \"mean\"],\n",
    "], axis=1))\n",
    "pred_bf = get_best_threshold_spliter(reg_prob, y_true_cls=None, model=model_threshold, training=False)"
   ]
  },
  {
   "cell_type": "markdown",
   "metadata": {
    "id": "_6HDk-7idktp"
   },
   "source": [
    "#Train after"
   ]
  },
  {
   "cell_type": "code",
   "execution_count": 15,
   "metadata": {
    "id": "MFyVqb9Bdl_b",
    "tags": []
   },
   "outputs": [],
   "source": [
    "#clf = catboost.CatBoostClassifier(verbose=0,cat_features=['LINE'])\n",
    "clf.fit(train_x_af, train_y_af)\n",
    "train_pred_af = clf.predict(train_x_af)\n",
    "pred_af = clf.predict(test_x_af)"
   ]
  },
  {
   "cell_type": "code",
   "execution_count": 16,
   "metadata": {
    "id": "38FayL5Kdix7",
    "tags": []
   },
   "outputs": [
    {
     "name": "stdout",
     "output_type": "stream",
     "text": [
      "Best score : 0.9923042220629993\n",
      "Best score : 1.0\n"
     ]
    }
   ],
   "source": [
    "reg_prob = np.abs(np.stack([\n",
    "    train_pred_af - af_stats.loc[0, \"mean\"],\n",
    "    train_pred_af - af_stats.loc[1, \"mean\"],\n",
    "    train_pred_af - af_stats.loc[2, \"mean\"],\n",
    "], axis=1))\n",
    "model_threshold, train_pred_af = get_best_threshold_spliter(reg_prob, train_w_af[\"Y_Class\"].values, training=True)\n",
    "\n",
    "reg_prob = np.abs(np.stack([\n",
    "    pred_af - af_stats.loc[0, \"mean\"],\n",
    "    pred_af - af_stats.loc[1, \"mean\"],\n",
    "    pred_af - af_stats.loc[2, \"mean\"],\n",
    "], axis=1))\n",
    "pred_af = get_best_threshold_spliter(reg_prob, y_true_cls=None, model=model_threshold, training=False)"
   ]
  },
  {
   "cell_type": "markdown",
   "metadata": {
    "id": "PnkYN5x9dps8"
   },
   "source": [
    "Submission"
   ]
  },
  {
   "cell_type": "code",
   "execution_count": 17,
   "metadata": {
    "id": "w5qHP56WdrYf",
    "tags": []
   },
   "outputs": [],
   "source": [
    "submit_bf['Y_Class'] = pred_bf\n",
    "submit_af['Y_Class'] = pred_af"
   ]
  },
  {
   "cell_type": "code",
   "execution_count": 18,
   "metadata": {
    "id": "Mgtk7QVzd47b",
    "tags": []
   },
   "outputs": [],
   "source": [
    "submit_fin = pd.concat([submit_bf, submit_af],axis=0)\n",
    "submit_fin = submit_fin.sort_values('PRODUCT_ID')\n",
    "submit_fin.to_csv('reg_1_changeseed_313_dt.csv', index=False)"
   ]
  },
  {
   "cell_type": "code",
   "execution_count": 19,
   "metadata": {
    "id": "K3vjRgisd7Rq",
    "tags": []
   },
   "outputs": [
    {
     "data": {
      "text/plain": [
       "1    415\n",
       "2     72\n",
       "0     48\n",
       "Name: Y_Class, dtype: int64"
      ]
     },
     "execution_count": 19,
     "metadata": {},
     "output_type": "execute_result"
    }
   ],
   "source": [
    "submit_fin['Y_Class'].value_counts()"
   ]
  },
  {
   "cell_type": "code",
   "execution_count": 20,
   "metadata": {
    "id": "xrCbnkmYd8ss",
    "tags": []
   },
   "outputs": [
    {
     "data": {
      "text/html": [
       "<div>\n",
       "<style scoped>\n",
       "    .dataframe tbody tr th:only-of-type {\n",
       "        vertical-align: middle;\n",
       "    }\n",
       "\n",
       "    .dataframe tbody tr th {\n",
       "        vertical-align: top;\n",
       "    }\n",
       "\n",
       "    .dataframe thead th {\n",
       "        text-align: right;\n",
       "    }\n",
       "</style>\n",
       "<table border=\"1\" class=\"dataframe\">\n",
       "  <thead>\n",
       "    <tr style=\"text-align: right;\">\n",
       "      <th></th>\n",
       "      <th>PRODUCT_ID</th>\n",
       "      <th>Y_Class</th>\n",
       "    </tr>\n",
       "  </thead>\n",
       "  <tbody>\n",
       "    <tr>\n",
       "      <th>0</th>\n",
       "      <td>TEST_000</td>\n",
       "      <td>1</td>\n",
       "    </tr>\n",
       "    <tr>\n",
       "      <th>1</th>\n",
       "      <td>TEST_001</td>\n",
       "      <td>1</td>\n",
       "    </tr>\n",
       "    <tr>\n",
       "      <th>2</th>\n",
       "      <td>TEST_002</td>\n",
       "      <td>1</td>\n",
       "    </tr>\n",
       "    <tr>\n",
       "      <th>3</th>\n",
       "      <td>TEST_003</td>\n",
       "      <td>1</td>\n",
       "    </tr>\n",
       "    <tr>\n",
       "      <th>4</th>\n",
       "      <td>TEST_004</td>\n",
       "      <td>1</td>\n",
       "    </tr>\n",
       "    <tr>\n",
       "      <th>...</th>\n",
       "      <td>...</td>\n",
       "      <td>...</td>\n",
       "    </tr>\n",
       "    <tr>\n",
       "      <th>530</th>\n",
       "      <td>TEST_530</td>\n",
       "      <td>1</td>\n",
       "    </tr>\n",
       "    <tr>\n",
       "      <th>531</th>\n",
       "      <td>TEST_531</td>\n",
       "      <td>1</td>\n",
       "    </tr>\n",
       "    <tr>\n",
       "      <th>532</th>\n",
       "      <td>TEST_532</td>\n",
       "      <td>1</td>\n",
       "    </tr>\n",
       "    <tr>\n",
       "      <th>533</th>\n",
       "      <td>TEST_533</td>\n",
       "      <td>1</td>\n",
       "    </tr>\n",
       "    <tr>\n",
       "      <th>534</th>\n",
       "      <td>TEST_534</td>\n",
       "      <td>1</td>\n",
       "    </tr>\n",
       "  </tbody>\n",
       "</table>\n",
       "<p>535 rows × 2 columns</p>\n",
       "</div>"
      ],
      "text/plain": [
       "    PRODUCT_ID  Y_Class\n",
       "0     TEST_000        1\n",
       "1     TEST_001        1\n",
       "2     TEST_002        1\n",
       "3     TEST_003        1\n",
       "4     TEST_004        1\n",
       "..         ...      ...\n",
       "530   TEST_530        1\n",
       "531   TEST_531        1\n",
       "532   TEST_532        1\n",
       "533   TEST_533        1\n",
       "534   TEST_534        1\n",
       "\n",
       "[535 rows x 2 columns]"
      ]
     },
     "execution_count": 20,
     "metadata": {},
     "output_type": "execute_result"
    }
   ],
   "source": [
    "submit_fin"
   ]
  },
  {
   "cell_type": "code",
   "execution_count": 37,
   "metadata": {
    "id": "IDTmA_uN2u5Y"
   },
   "outputs": [
    {
     "data": {
      "text/plain": [
       "['0.741.pkl']"
      ]
     },
     "execution_count": 37,
     "metadata": {},
     "output_type": "execute_result"
    }
   ],
   "source": [
    "import joblib\n",
    "\n",
    "joblib.dump(clf, '0.741.pkl')"
   ]
  },
  {
   "cell_type": "code",
   "execution_count": null,
   "metadata": {},
   "outputs": [],
   "source": []
  }
 ],
 "metadata": {
  "colab": {
   "authorship_tag": "ABX9TyNrX/ZdoGDOZ/n1633IJ95b",
   "mount_file_id": "13FBGYg_Z4_48L3zC7d1C-F2HyXMZ-Cpv",
   "provenance": []
  },
  "kernelspec": {
   "display_name": "Python 3 (ipykernel)",
   "language": "python",
   "name": "python3"
  },
  "language_info": {
   "codemirror_mode": {
    "name": "ipython",
    "version": 3
   },
   "file_extension": ".py",
   "mimetype": "text/x-python",
   "name": "python",
   "nbconvert_exporter": "python",
   "pygments_lexer": "ipython3",
   "version": "3.9.16"
  }
 },
 "nbformat": 4,
 "nbformat_minor": 4
}
