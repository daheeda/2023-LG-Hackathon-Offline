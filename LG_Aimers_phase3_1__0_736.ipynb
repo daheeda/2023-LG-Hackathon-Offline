{
 "cells": [
  {
   "cell_type": "code",
   "execution_count": 1,
   "metadata": {
    "colab": {
     "base_uri": "https://localhost:8080/"
    },
    "id": "DH_c0KCcTXWJ",
    "outputId": "9cc69dee-84b6-4f55-c19b-efbf07dfccbe"
   },
   "outputs": [
    {
     "name": "stdout",
     "output_type": "stream",
     "text": [
      "Requirement already satisfied: catboost in /opt/anaconda3/envs/lgaimers/lib/python3.9/site-packages (1.0.6)\n",
      "Requirement already satisfied: pandas>=0.24.0 in /opt/anaconda3/envs/lgaimers/lib/python3.9/site-packages (from catboost) (1.5.2)\n",
      "Requirement already satisfied: matplotlib in /opt/anaconda3/envs/lgaimers/lib/python3.9/site-packages (from catboost) (3.6.2)\n",
      "Requirement already satisfied: plotly in /opt/anaconda3/envs/lgaimers/lib/python3.9/site-packages (from catboost) (5.9.0)\n",
      "Requirement already satisfied: numpy>=1.16.0 in /opt/anaconda3/envs/lgaimers/lib/python3.9/site-packages (from catboost) (1.23.5)\n",
      "Requirement already satisfied: scipy in /opt/anaconda3/envs/lgaimers/lib/python3.9/site-packages (from catboost) (1.9.3)\n",
      "Requirement already satisfied: six in /opt/anaconda3/envs/lgaimers/lib/python3.9/site-packages (from catboost) (1.16.0)\n",
      "Requirement already satisfied: graphviz in /opt/anaconda3/envs/lgaimers/lib/python3.9/site-packages (from catboost) (0.20.1)\n",
      "Requirement already satisfied: python-dateutil>=2.8.1 in /opt/anaconda3/envs/lgaimers/lib/python3.9/site-packages (from pandas>=0.24.0->catboost) (2.8.2)\n",
      "Requirement already satisfied: pytz>=2020.1 in /opt/anaconda3/envs/lgaimers/lib/python3.9/site-packages (from pandas>=0.24.0->catboost) (2022.7)\n",
      "Requirement already satisfied: fonttools>=4.22.0 in /opt/anaconda3/envs/lgaimers/lib/python3.9/site-packages (from matplotlib->catboost) (4.25.0)\n",
      "Requirement already satisfied: cycler>=0.10 in /opt/anaconda3/envs/lgaimers/lib/python3.9/site-packages (from matplotlib->catboost) (0.11.0)\n",
      "Requirement already satisfied: kiwisolver>=1.0.1 in /opt/anaconda3/envs/lgaimers/lib/python3.9/site-packages (from matplotlib->catboost) (1.4.4)\n",
      "Requirement already satisfied: contourpy>=1.0.1 in /opt/anaconda3/envs/lgaimers/lib/python3.9/site-packages (from matplotlib->catboost) (1.0.5)\n",
      "Requirement already satisfied: packaging>=20.0 in /opt/anaconda3/envs/lgaimers/lib/python3.9/site-packages (from matplotlib->catboost) (22.0)\n",
      "Requirement already satisfied: pillow>=6.2.0 in /opt/anaconda3/envs/lgaimers/lib/python3.9/site-packages (from matplotlib->catboost) (9.3.0)\n",
      "Requirement already satisfied: pyparsing>=2.2.1 in /opt/anaconda3/envs/lgaimers/lib/python3.9/site-packages (from matplotlib->catboost) (3.0.9)\n",
      "Requirement already satisfied: tenacity>=6.2.0 in /opt/anaconda3/envs/lgaimers/lib/python3.9/site-packages (from plotly->catboost) (8.0.1)\n"
     ]
    }
   ],
   "source": [
    "!pip install catboost"
   ]
  },
  {
   "cell_type": "code",
   "execution_count": null,
   "metadata": {
    "id": "qe2o-O4u6OXn"
   },
   "outputs": [],
   "source": [
    "import pandas as pd\n",
    "import numpy as np\n",
    "import warnings\n",
    "warnings.filterwarnings(action='ignore')\n",
    "import catboost\n",
    "from catboost import *\n",
    "import sklearn\n",
    "from sklearn.preprocessing import LabelEncoder\n",
    "import sys"
   ]
  },
  {
   "cell_type": "code",
   "execution_count": null,
   "metadata": {
    "id": "mq9ums2L76Ph"
   },
   "outputs": [],
   "source": [
    "train = pd.read_csv('/content/drive/MyDrive/LG_Aimers_Phase_3/train.csv')\n",
    "test = pd.read_csv('/content/drive/MyDrive/LG_Aimers_Phase_3/test.csv')\n",
    "submit = pd.read_csv('/content/drive/MyDrive/LG_Aimers_Phase_3/sample_submission.csv')"
   ]
  },
  {
   "cell_type": "code",
   "execution_count": null,
   "metadata": {
    "colab": {
     "base_uri": "https://localhost:8080/"
    },
    "id": "yFv1EzkV-DlG",
    "outputId": "505b18d9-31a1-41f2-989b-10d52d3a2033"
   },
   "outputs": [
    {
     "name": "stdout",
     "output_type": "stream",
     "text": [
      "0.525066667\n",
      "0.525085714\n",
      "0.534842857\n",
      "0.534950794\n"
     ]
    }
   ],
   "source": [
    "print(train[train['Y_Class'] == 0]['Y_Quality'].max())\n",
    "print(train[train['Y_Class'] == 1]['Y_Quality'].min())\n",
    "print(train[train['Y_Class'] == 1]['Y_Quality'].max())\n",
    "print(train[train['Y_Class'] == 2]['Y_Quality'].min())"
   ]
  },
  {
   "cell_type": "code",
   "execution_count": null,
   "metadata": {
    "id": "87Q1AMDI_7S_"
   },
   "outputs": [],
   "source": [
    "def del_columns(train, test):\n",
    "    col_list = train.columns\n",
    "    nan_list = []\n",
    "    nan_cnt = []\n",
    "    nan_col = []\n",
    "    full_list = []\n",
    "    for col in col_list:\n",
    "        if train[col].isnull().sum() == 0 :\n",
    "            full_list.append(col)\n",
    "            continue\n",
    "        nan_list.append([col, train[col].isnull().sum()])\n",
    "        nan_cnt.append(train[col].isnull().sum())\n",
    "        nan_col.append(col)\n",
    "\n",
    "    del_col = []\n",
    "    for col in nan_list :\n",
    "        if col[1] == len(train) :\n",
    "            del_col.append(col[0])\n",
    "    train = train.drop(columns=del_col)\n",
    "    test = test.drop(columns=del_col)\n",
    "\n",
    "    del_col = []\n",
    "    col_list = train.describe().columns\n",
    "    for col in col_list :\n",
    "        if col == 'Y_Class':\n",
    "            continue\n",
    "        if col == 'Y_Quality':\n",
    "            continue\n",
    "        if col == 'LINE':\n",
    "            continue\n",
    "        if col == 'PRODUCT_CODE':\n",
    "            continue\n",
    "        if train[col].nunique()==1 :\n",
    "            del_col.append(col)\n",
    "    train = train.drop(columns=del_col)\n",
    "    test = test.drop(columns=del_col)\n",
    "    \n",
    "    return train,test\n",
    "\n",
    "def make_train_test_dataset(train,test):\n",
    "    \n",
    "    '''\n",
    "    트레인데이터, 학습데이터 셋 만들기\n",
    "    '''\n",
    "    \n",
    "    train_x = train.drop(columns=['PRODUCT_ID','PRODUCT_CODE','Y_Class','Y_Quality'])\n",
    "    test_x = test.drop(columns=['PRODUCT_ID','PRODUCT_CODE'])\n",
    "    train_y = train['Y_Quality']\n",
    "    train_w = train[['Y_Class']]\n",
    "    return train_x, test_x, train_y, train_w\n",
    "\n",
    "\n",
    "def fillna(train,test,value):\n",
    "    train = train.fillna(value)\n",
    "    test = test.fillna(value)\n",
    "    return train,test\n",
    "\n",
    "def labelencoder(train,test,col_list):\n",
    "    \n",
    "    qual_col = col_list\n",
    "    for i in qual_col:\n",
    "        le = LabelEncoder()\n",
    "        le = le.fit(train[i])\n",
    "        train[i] = le.transform(train[i])\n",
    "\n",
    "        for label in np.unique(test[i]): \n",
    "            if label not in le.classes_: \n",
    "                le.classes_ = np.append(le.classes_, label)\n",
    "        test[i] = le.transform(test[i]) \n",
    "    return train,test"
   ]
  },
  {
   "cell_type": "code",
   "execution_count": null,
   "metadata": {
    "id": "SXezYT84A3ov"
   },
   "outputs": [],
   "source": [
    "#train, test = del_columns(train,test)\n",
    "train, test = fillna(train,test,-1)\n",
    "#train_x, test_x, train_y, train_w = make_train_test_dataset(train,test)\n",
    "#train_x, test_x = labelencoder(train_x,test_x,['LINE'])\n",
    "train['PRODUCT_CODE'] = train['PRODUCT_CODE'].astype('category')\n",
    "train['LINE'] = train['LINE'].astype('category')\n",
    "\n",
    "test['PRODUCT_CODE'] = test['PRODUCT_CODE'].astype('category')\n",
    "test['LINE'] = test['LINE'].astype('category')"
   ]
  },
  {
   "cell_type": "code",
   "execution_count": null,
   "metadata": {
    "id": "coTsIaeADVhk"
   },
   "outputs": [],
   "source": [
    "rows_with_all_minus_one_tr = []\n",
    "\n",
    "# 2880번째 열부터 마지막 열까지 각 행에 대해 반복\n",
    "for index, row in train.iloc[:, 2880:].iterrows():\n",
    "    # 행의 모든 값이 -1인지 확인\n",
    "    if all(value == -1 for value in row):\n",
    "        rows_with_all_minus_one_tr.append(index)\n",
    "\n",
    "# 결과를 저장할 빈 데이터프레임 생성\n",
    "result_data_tr = train.iloc[rows_with_all_minus_one_tr]\n",
    "\n",
    "\n",
    "\n",
    "rows_with_all_minus_one_te = []\n",
    "\n",
    "# 2880번째 열부터 마지막 열까지 각 행에 대해 반복\n",
    "for index, row in test.iloc[:, 2880:].iterrows():\n",
    "    # 행의 모든 값이 -1인지 확인\n",
    "    if all(value == -1 for value in row):\n",
    "        rows_with_all_minus_one_te.append(index)\n",
    "\n",
    "# 결과를 저장할 빈 데이터프레임 생성\n",
    "result_data_te = test.iloc[rows_with_all_minus_one_te]\n",
    "\n",
    "train_bf = train.iloc[rows_with_all_minus_one_tr]\n",
    "test_bf = test.iloc[rows_with_all_minus_one_te]\n",
    "submit_bf = submit.iloc[rows_with_all_minus_one_te]\n",
    "\n",
    "train_af= train.drop(result_data_tr.index)\n",
    "test_af= test.drop(result_data_te.index)\n",
    "submit_af= submit.drop(result_data_te.index)\n",
    "\n",
    "train_bf = train_bf.reset_index(drop=True)\n",
    "test_bf = test_bf.reset_index(drop=True)\n",
    "\n",
    "train_af = train_af.reset_index(drop=True)\n",
    "test_af = test_af.reset_index(drop=True)"
   ]
  },
  {
   "cell_type": "code",
   "execution_count": null,
   "metadata": {
    "id": "mhXFu4_1PoVv"
   },
   "outputs": [],
   "source": [
    "train_bf, test_bf = del_columns(train_bf,test_bf)\n",
    "train_af, test_af = del_columns(train_af,test_af)\n",
    "\n",
    "train_x_bf, test_x_bf, train_y_bf, train_w_bf = make_train_test_dataset(train_bf,test_bf)\n",
    "train_x_af, test_x_af, train_y_af, train_w_af = make_train_test_dataset(train_af,test_af)\n",
    "\n",
    "#train_x_bf, test_x_bf = labelencoder(train_x_bf,test_x_bf,['LINE'])\n",
    "#train_x_af, test_x_af = labelencoder(train_x_af,test_x_af,['LINE'])"
   ]
  },
  {
   "cell_type": "code",
   "execution_count": null,
   "metadata": {
    "colab": {
     "base_uri": "https://localhost:8080/"
    },
    "id": "cDaXEmqZHDXL",
    "outputId": "8d4f893c-a482-4361-e87b-faed0e91a62c"
   },
   "outputs": [
    {
     "data": {
      "text/plain": [
       "2798"
      ]
     },
     "execution_count": 319,
     "metadata": {},
     "output_type": "execute_result"
    }
   ],
   "source": [
    "len(train_x_bf.columns)"
   ]
  },
  {
   "cell_type": "code",
   "execution_count": null,
   "metadata": {
    "id": "emGPAOlLHB06"
   },
   "outputs": [],
   "source": [
    "train_x_bf = train_x_bf.T.drop_duplicates().T\n",
    "train_x_af = train_x_af.T.drop_duplicates().T"
   ]
  },
  {
   "cell_type": "code",
   "execution_count": null,
   "metadata": {
    "colab": {
     "base_uri": "https://localhost:8080/"
    },
    "id": "LenT-oapHH5m",
    "outputId": "09ca070e-c2be-4a0c-9bd2-b484df8ec4ca"
   },
   "outputs": [
    {
     "data": {
      "text/plain": [
       "1719"
      ]
     },
     "execution_count": 321,
     "metadata": {},
     "output_type": "execute_result"
    }
   ],
   "source": [
    "len(train_x_bf.columns)"
   ]
  },
  {
   "cell_type": "code",
   "execution_count": null,
   "metadata": {
    "id": "F-WfBr1vpQs3"
   },
   "outputs": [],
   "source": [
    "#1\n",
    "clf = catboost.CatBoostRegressor(\n",
    "    learning_rate=0.05,# 0.05\n",
    "    iterations=1000, #1000\n",
    "    depth=6,\n",
    "    l2_leaf_reg=5, #5\n",
    "    border_count=254,cat_features=['LINE'],\n",
    "    random_seed=313)\n",
    "\n",
    "clf.fit(train_x_bf, train_y_bf)\n",
    "pred_bf = clf.predict(test_x_bf)\n",
    "clf.fit(train_x_af, train_y_af)\n",
    "pred_af = clf.predict(test_x_af)\n",
    "\n",
    "submit_bf['Y_Class'] = pred_bf\n",
    "submit_af['Y_Class'] = pred_af"
   ]
  },
  {
   "cell_type": "code",
   "execution_count": null,
   "metadata": {
    "colab": {
     "base_uri": "https://localhost:8080/"
    },
    "id": "o-cxXgsNqDvv",
    "outputId": "837639c7-891b-4fcd-fb37-5b2f5f14b9e7"
   },
   "outputs": [
    {
     "data": {
      "text/plain": [
       "1.0    417\n",
       "2.0     74\n",
       "0.0     44\n",
       "Name: Y_Class, dtype: int64"
      ]
     },
     "execution_count": 324,
     "metadata": {},
     "output_type": "execute_result"
    }
   ],
   "source": [
    "submit_fin = pd.concat([submit_bf,submit_af],axis=0)\n",
    "submit_fin = submit_fin.sort_values('PRODUCT_ID')\n",
    "submit_fin['Y_Class'][submit_fin['Y_Class'] <= 0.5250761905000001] = 0\n",
    "submit_fin['Y_Class'][submit_fin['Y_Class'] >= 0.5348968255] = 2\n",
    "submit_fin['Y_Class'][(submit_fin['Y_Class'] > 0.5250761905000001) & (submit_fin['Y_Class'] <= 0.5348968255)] = 1\n",
    "submit_fin.to_csv('reg_drop_dup.csv',index=False)\n",
    "submit_fin['Y_Class'].value_counts()"
   ]
  }
 ],
 "metadata": {
  "colab": {
   "provenance": []
  },
  "kernelspec": {
   "display_name": "Python 3 (ipykernel)",
   "language": "python",
   "name": "python3"
  },
  "language_info": {
   "codemirror_mode": {
    "name": "ipython",
    "version": 3
   },
   "file_extension": ".py",
   "mimetype": "text/x-python",
   "name": "python",
   "nbconvert_exporter": "python",
   "pygments_lexer": "ipython3",
   "version": "3.9.16"
  }
 },
 "nbformat": 4,
 "nbformat_minor": 1
}
