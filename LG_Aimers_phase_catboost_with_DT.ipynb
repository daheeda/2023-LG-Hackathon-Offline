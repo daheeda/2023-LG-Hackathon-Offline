{
 "cells": [
  {
   "cell_type": "code",
   "execution_count": 1,
   "metadata": {
    "id": "FyvasL0X6KPQ"
   },
   "outputs": [],
   "source": [
    "# !pip install autogluon"
   ]
  },
  {
   "cell_type": "code",
   "execution_count": 2,
   "metadata": {
    "colab": {
     "base_uri": "https://localhost:8080/"
    },
    "id": "DH_c0KCcTXWJ",
    "outputId": "9cc69dee-84b6-4f55-c19b-efbf07dfccbe"
   },
   "outputs": [],
   "source": [
    "# !pip install catboost"
   ]
  },
  {
   "cell_type": "code",
   "execution_count": 3,
   "metadata": {
    "id": "qe2o-O4u6OXn"
   },
   "outputs": [],
   "source": [
    "import pandas as pd\n",
    "import numpy as np\n",
    "import warnings\n",
    "warnings.filterwarnings(action='ignore')\n",
    "import catboost\n",
    "from catboost import *\n",
    "import sklearn\n",
    "from sklearn.preprocessing import LabelEncoder\n",
    "import sys\n",
    "\n",
    "from itertools import product\n",
    "from sklearn.tree import DecisionTreeClassifier\n",
    "from sklearn import metrics\n",
    "import copy"
   ]
  },
  {
   "cell_type": "code",
   "execution_count": 4,
   "metadata": {
    "id": "mq9ums2L76Ph"
   },
   "outputs": [],
   "source": [
    "train = pd.read_csv('../../datasets/train.csv')\n",
    "test = pd.read_csv('../../datasets/test.csv')\n",
    "submit = pd.read_csv('../../datasets/sample_submission.csv')"
   ]
  },
  {
   "cell_type": "code",
   "execution_count": 5,
   "metadata": {
    "colab": {
     "base_uri": "https://localhost:8080/"
    },
    "id": "yFv1EzkV-DlG",
    "outputId": "d0dc3cfd-273a-4b0c-92be-1c08324ea2ba"
   },
   "outputs": [
    {
     "name": "stdout",
     "output_type": "stream",
     "text": [
      "0.525066667\n",
      "0.525085714\n",
      "0.534842857\n",
      "0.534950794\n"
     ]
    }
   ],
   "source": [
    "print(train[train['Y_Class'] == 0]['Y_Quality'].max())\n",
    "print(train[train['Y_Class'] == 1]['Y_Quality'].min())\n",
    "print(train[train['Y_Class'] == 1]['Y_Quality'].max())\n",
    "print(train[train['Y_Class'] == 2]['Y_Quality'].min())"
   ]
  },
  {
   "cell_type": "code",
   "execution_count": 6,
   "metadata": {
    "id": "87Q1AMDI_7S_"
   },
   "outputs": [],
   "source": [
    "def del_columns(train, test):\n",
    "    col_list = train.columns\n",
    "    nan_list = []\n",
    "    nan_cnt = []\n",
    "    nan_col = []\n",
    "    full_list = []\n",
    "    for col in col_list:\n",
    "        if train[col].isnull().sum() == 0 :\n",
    "            full_list.append(col)\n",
    "            continue\n",
    "        nan_list.append([col, train[col].isnull().sum()])\n",
    "        nan_cnt.append(train[col].isnull().sum())\n",
    "        nan_col.append(col)\n",
    "\n",
    "    del_col = []\n",
    "    for col in nan_list :\n",
    "        if col[1] == len(train) :\n",
    "            del_col.append(col[0])\n",
    "    train = train.drop(columns=del_col)\n",
    "    test = test.drop(columns=del_col)\n",
    "\n",
    "    del_col = []\n",
    "    col_list = train.describe().columns\n",
    "    for col in col_list :\n",
    "        if col == 'Y_Class':\n",
    "            continue\n",
    "        if col == 'Y_Quality':\n",
    "            continue\n",
    "        if col == 'LINE':\n",
    "            continue\n",
    "        if col == 'PRODUCT_CODE':\n",
    "            continue\n",
    "        if train[col].nunique()==1 :\n",
    "            del_col.append(col)\n",
    "    train = train.drop(columns=del_col)\n",
    "    test = test.drop(columns=del_col)\n",
    "    \n",
    "    return train,test\n",
    "\n",
    "def make_train_test_dataset(train,test):\n",
    "    \n",
    "    '''\n",
    "    트레인데이터, 학습데이터 셋 만들기\n",
    "    '''\n",
    "    \n",
    "    train_x = train.drop(columns=['PRODUCT_ID','PRODUCT_CODE','Y_Class','Y_Quality'])\n",
    "    test_x = test.drop(columns=['PRODUCT_ID','PRODUCT_CODE'])\n",
    "    train_y = train['Y_Quality']\n",
    "    train_w = train[['Y_Class']]\n",
    "    return train_x, test_x, train_y, train_w\n",
    "\n",
    "\n",
    "def fillna(train,test,value):\n",
    "    train = train.fillna(value)\n",
    "    test = test.fillna(value)\n",
    "    return train,test\n",
    "\n",
    "def labelencoder(train,test,col_list):\n",
    "    \n",
    "    qual_col = col_list\n",
    "    for i in qual_col:\n",
    "        le = LabelEncoder()\n",
    "        le = le.fit(train[i])\n",
    "        train[i] = le.transform(train[i])\n",
    "\n",
    "        for label in np.unique(test[i]): \n",
    "            if label not in le.classes_: \n",
    "                le.classes_ = np.append(le.classes_, label)\n",
    "        test[i] = le.transform(test[i]) \n",
    "    return train,test"
   ]
  },
  {
   "cell_type": "code",
   "execution_count": 7,
   "metadata": {
    "id": "SXezYT84A3ov"
   },
   "outputs": [],
   "source": [
    "#train, test = del_columns(train,test)\n",
    "train, test = fillna(train,test,-1)\n",
    "#train_x, test_x, train_y, train_w = make_train_test_dataset(train,test)\n",
    "#train_x, test_x = labelencoder(train_x,test_x,['LINE'])\n",
    "train['PRODUCT_CODE'] = train['PRODUCT_CODE'].astype('category')\n",
    "train['LINE'] = train['LINE'].astype('category')\n",
    "\n",
    "test['PRODUCT_CODE'] = test['PRODUCT_CODE'].astype('category')\n",
    "test['LINE'] = test['LINE'].astype('category')"
   ]
  },
  {
   "cell_type": "code",
   "execution_count": 8,
   "metadata": {
    "id": "coTsIaeADVhk"
   },
   "outputs": [],
   "source": [
    "rows_with_all_minus_one_tr = []\n",
    "\n",
    "# 2880번째 열부터 마지막 열까지 각 행에 대해 반복\n",
    "for index, row in train.iloc[:, 2880:].iterrows():\n",
    "    # 행의 모든 값이 -1인지 확인\n",
    "    if all(value == -1 for value in row):\n",
    "        rows_with_all_minus_one_tr.append(index)\n",
    "\n",
    "# 결과를 저장할 빈 데이터프레임 생성\n",
    "result_data_tr = train.iloc[rows_with_all_minus_one_tr]\n",
    "\n",
    "rows_with_all_minus_one_te = []\n",
    "\n",
    "# 2880번째 열부터 마지막 열까지 각 행에 대해 반복\n",
    "for index, row in test.iloc[:, 2880:].iterrows():\n",
    "    # 행의 모든 값이 -1인지 확인\n",
    "    if all(value == -1 for value in row):\n",
    "        rows_with_all_minus_one_te.append(index)\n",
    "\n",
    "# 결과를 저장할 빈 데이터프레임 생성\n",
    "result_data_te = test.iloc[rows_with_all_minus_one_te]\n",
    "\n",
    "train_bf = train.iloc[rows_with_all_minus_one_tr]\n",
    "test_bf = test.iloc[rows_with_all_minus_one_te]\n",
    "submit_bf = submit.iloc[rows_with_all_minus_one_te]\n",
    "\n",
    "train_af= train.drop(result_data_tr.index)\n",
    "test_af= test.drop(result_data_te.index)\n",
    "submit_af= submit.drop(result_data_te.index)\n",
    "\n",
    "train_bf = train_bf.reset_index(drop=True)\n",
    "test_bf = test_bf.reset_index(drop=True)\n",
    "\n",
    "train_af = train_af.reset_index(drop=True)\n",
    "test_af = test_af.reset_index(drop=True)"
   ]
  },
  {
   "cell_type": "code",
   "execution_count": 9,
   "metadata": {},
   "outputs": [],
   "source": [
    "def get_best_threshold_spliter(y_pred, y_true_cls, model=None, training=True):\n",
    "    if training:\n",
    "        search_space = [[2, 4, 6], [1, 3, 5, 7, 9]]\n",
    "        best_score = -np.inf\n",
    "        output_pred = []\n",
    "        model = None\n",
    "        for depth, min_samples in product(*search_space): \n",
    "            model = DecisionTreeClassifier(\n",
    "                criterion=\"gini\", max_features=1.0,\n",
    "                max_depth=depth, min_samples_leaf=min_samples, random_state=42\n",
    "            )\n",
    "            model.fit(y_pred, y_true_cls)\n",
    "            y_pred_cls = model.predict(y_pred)\n",
    "            score = metrics.f1_score(y_true_cls, y_pred_cls, average=\"macro\")\n",
    "            if best_score < score:\n",
    "                best_score = score\n",
    "                print(f\"Best score : {best_score}\")\n",
    "                output_pred = y_pred_cls.copy()\n",
    "                model = copy.deepcopy(model)\n",
    "        return model, output_pred\n",
    "    else:\n",
    "        output_pred = model.predict(y_pred)\n",
    "        return output_pred"
   ]
  },
  {
   "cell_type": "code",
   "execution_count": 10,
   "metadata": {
    "id": "mhXFu4_1PoVv"
   },
   "outputs": [],
   "source": [
    "train_bf, test_bf = del_columns(train_bf,test_bf)\n",
    "train_af, test_af = del_columns(train_af,test_af)\n",
    "\n",
    "train_x_bf, test_x_bf, train_y_bf, train_w_bf = make_train_test_dataset(train_bf,test_bf)\n",
    "train_x_af, test_x_af, train_y_af, train_w_af = make_train_test_dataset(train_af,test_af)\n",
    "\n",
    "#train_x, test_x = labelencoder(train_x,test_x,['LINE'])"
   ]
  },
  {
   "cell_type": "code",
   "execution_count": 11,
   "metadata": {},
   "outputs": [],
   "source": [
    "bf_stats = pd.DataFrame({\"qual\": train_y_bf, \"cls\": train_w_bf[\"Y_Class\"]}).groupby(\"cls\")[\"qual\"].describe()\n",
    "af_stats = pd.DataFrame({\"qual\": train_y_af, \"cls\": train_w_af[\"Y_Class\"]}).groupby(\"cls\")[\"qual\"].describe()"
   ]
  },
  {
   "cell_type": "code",
   "execution_count": 12,
   "metadata": {},
   "outputs": [
    {
     "data": {
      "text/html": [
       "<div>\n",
       "<style scoped>\n",
       "    .dataframe tbody tr th:only-of-type {\n",
       "        vertical-align: middle;\n",
       "    }\n",
       "\n",
       "    .dataframe tbody tr th {\n",
       "        vertical-align: top;\n",
       "    }\n",
       "\n",
       "    .dataframe thead th {\n",
       "        text-align: right;\n",
       "    }\n",
       "</style>\n",
       "<table border=\"1\" class=\"dataframe\">\n",
       "  <thead>\n",
       "    <tr style=\"text-align: right;\">\n",
       "      <th></th>\n",
       "      <th>count</th>\n",
       "      <th>mean</th>\n",
       "      <th>std</th>\n",
       "      <th>min</th>\n",
       "      <th>25%</th>\n",
       "      <th>50%</th>\n",
       "      <th>75%</th>\n",
       "      <th>max</th>\n",
       "    </tr>\n",
       "    <tr>\n",
       "      <th>cls</th>\n",
       "      <th></th>\n",
       "      <th></th>\n",
       "      <th></th>\n",
       "      <th></th>\n",
       "      <th></th>\n",
       "      <th></th>\n",
       "      <th></th>\n",
       "      <th></th>\n",
       "    </tr>\n",
       "  </thead>\n",
       "  <tbody>\n",
       "    <tr>\n",
       "      <th>0</th>\n",
       "      <td>112.0</td>\n",
       "      <td>0.520381</td>\n",
       "      <td>0.004725</td>\n",
       "      <td>0.500856</td>\n",
       "      <td>0.518721</td>\n",
       "      <td>0.521534</td>\n",
       "      <td>0.523743</td>\n",
       "      <td>0.525067</td>\n",
       "    </tr>\n",
       "    <tr>\n",
       "      <th>1</th>\n",
       "      <td>529.0</td>\n",
       "      <td>0.530298</td>\n",
       "      <td>0.002413</td>\n",
       "      <td>0.525086</td>\n",
       "      <td>0.528494</td>\n",
       "      <td>0.530321</td>\n",
       "      <td>0.532170</td>\n",
       "      <td>0.534843</td>\n",
       "    </tr>\n",
       "    <tr>\n",
       "      <th>2</th>\n",
       "      <td>124.0</td>\n",
       "      <td>0.541887</td>\n",
       "      <td>0.007630</td>\n",
       "      <td>0.534951</td>\n",
       "      <td>0.536570</td>\n",
       "      <td>0.538635</td>\n",
       "      <td>0.545740</td>\n",
       "      <td>0.578841</td>\n",
       "    </tr>\n",
       "  </tbody>\n",
       "</table>\n",
       "</div>"
      ],
      "text/plain": [
       "     count      mean       std       min       25%       50%       75%  \\\n",
       "cls                                                                      \n",
       "0    112.0  0.520381  0.004725  0.500856  0.518721  0.521534  0.523743   \n",
       "1    529.0  0.530298  0.002413  0.525086  0.528494  0.530321  0.532170   \n",
       "2    124.0  0.541887  0.007630  0.534951  0.536570  0.538635  0.545740   \n",
       "\n",
       "          max  \n",
       "cls            \n",
       "0    0.525067  \n",
       "1    0.534843  \n",
       "2    0.578841  "
      ]
     },
     "metadata": {},
     "output_type": "display_data"
    },
    {
     "data": {
      "text/html": [
       "<div>\n",
       "<style scoped>\n",
       "    .dataframe tbody tr th:only-of-type {\n",
       "        vertical-align: middle;\n",
       "    }\n",
       "\n",
       "    .dataframe tbody tr th {\n",
       "        vertical-align: top;\n",
       "    }\n",
       "\n",
       "    .dataframe thead th {\n",
       "        text-align: right;\n",
       "    }\n",
       "</style>\n",
       "<table border=\"1\" class=\"dataframe\">\n",
       "  <thead>\n",
       "    <tr style=\"text-align: right;\">\n",
       "      <th></th>\n",
       "      <th>count</th>\n",
       "      <th>mean</th>\n",
       "      <th>std</th>\n",
       "      <th>min</th>\n",
       "      <th>25%</th>\n",
       "      <th>50%</th>\n",
       "      <th>75%</th>\n",
       "      <th>max</th>\n",
       "    </tr>\n",
       "    <tr>\n",
       "      <th>cls</th>\n",
       "      <th></th>\n",
       "      <th></th>\n",
       "      <th></th>\n",
       "      <th></th>\n",
       "      <th></th>\n",
       "      <th></th>\n",
       "      <th></th>\n",
       "      <th></th>\n",
       "    </tr>\n",
       "  </thead>\n",
       "  <tbody>\n",
       "    <tr>\n",
       "      <th>0</th>\n",
       "      <td>53.0</td>\n",
       "      <td>0.521165</td>\n",
       "      <td>0.003816</td>\n",
       "      <td>0.511590</td>\n",
       "      <td>0.519546</td>\n",
       "      <td>0.522775</td>\n",
       "      <td>0.523913</td>\n",
       "      <td>0.525060</td>\n",
       "    </tr>\n",
       "    <tr>\n",
       "      <th>1</th>\n",
       "      <td>237.0</td>\n",
       "      <td>0.530166</td>\n",
       "      <td>0.002685</td>\n",
       "      <td>0.525203</td>\n",
       "      <td>0.528141</td>\n",
       "      <td>0.530371</td>\n",
       "      <td>0.532478</td>\n",
       "      <td>0.534808</td>\n",
       "    </tr>\n",
       "    <tr>\n",
       "      <th>2</th>\n",
       "      <td>77.0</td>\n",
       "      <td>0.539973</td>\n",
       "      <td>0.006184</td>\n",
       "      <td>0.535038</td>\n",
       "      <td>0.536130</td>\n",
       "      <td>0.538087</td>\n",
       "      <td>0.540608</td>\n",
       "      <td>0.560454</td>\n",
       "    </tr>\n",
       "  </tbody>\n",
       "</table>\n",
       "</div>"
      ],
      "text/plain": [
       "     count      mean       std       min       25%       50%       75%  \\\n",
       "cls                                                                      \n",
       "0     53.0  0.521165  0.003816  0.511590  0.519546  0.522775  0.523913   \n",
       "1    237.0  0.530166  0.002685  0.525203  0.528141  0.530371  0.532478   \n",
       "2     77.0  0.539973  0.006184  0.535038  0.536130  0.538087  0.540608   \n",
       "\n",
       "          max  \n",
       "cls            \n",
       "0    0.525060  \n",
       "1    0.534808  \n",
       "2    0.560454  "
      ]
     },
     "metadata": {},
     "output_type": "display_data"
    }
   ],
   "source": [
    "display(bf_stats)\n",
    "display(af_stats)"
   ]
  },
  {
   "cell_type": "markdown",
   "metadata": {},
   "source": [
    "### Train before"
   ]
  },
  {
   "cell_type": "code",
   "execution_count": 13,
   "metadata": {
    "colab": {
     "base_uri": "https://localhost:8080/"
    },
    "id": "vveNKIWtQDjm",
    "outputId": "5e5b95d9-467f-4375-8e7c-bd92f213bc21"
   },
   "outputs": [],
   "source": [
    "clf = catboost.CatBoostRegressor(\n",
    "    learning_rate=0.05,\n",
    "    iterations=1000,\n",
    "    depth=6,\n",
    "    l2_leaf_reg=5,\n",
    "    border_count=254,\n",
    "    cat_features=['LINE'],\n",
    "    random_seed=313,\n",
    "    verbose=False,\n",
    ")"
   ]
  },
  {
   "cell_type": "code",
   "execution_count": 14,
   "metadata": {},
   "outputs": [],
   "source": [
    "clf.fit(train_x_bf, train_y_bf)\n",
    "train_pred_bf = clf.predict(train_x_bf)\n",
    "pred_bf = clf.predict(test_x_bf)"
   ]
  },
  {
   "cell_type": "code",
   "execution_count": 15,
   "metadata": {},
   "outputs": [
    {
     "data": {
      "text/plain": [
       "array([0.53164599, 0.53190557, 0.53312739, 0.53516698, 0.53139052])"
      ]
     },
     "execution_count": 15,
     "metadata": {},
     "output_type": "execute_result"
    }
   ],
   "source": [
    "train_pred_bf[:5]"
   ]
  },
  {
   "cell_type": "code",
   "execution_count": 16,
   "metadata": {},
   "outputs": [
    {
     "data": {
      "text/plain": [
       "array([0.52926508, 0.53064941, 0.53175926, 0.53114609, 0.529851  ])"
      ]
     },
     "execution_count": 16,
     "metadata": {},
     "output_type": "execute_result"
    }
   ],
   "source": [
    "pred_bf[:5]"
   ]
  },
  {
   "cell_type": "code",
   "execution_count": 17,
   "metadata": {},
   "outputs": [
    {
     "name": "stdout",
     "output_type": "stream",
     "text": [
      "Best score : 0.9604921858692045\n",
      "Best score : 0.9809278622796036\n",
      "Best score : 0.9949039845532736\n"
     ]
    }
   ],
   "source": [
    "reg_prob = np.abs(np.stack([\n",
    "    train_pred_bf - bf_stats.loc[0, \"mean\"],\n",
    "    train_pred_bf - bf_stats.loc[1, \"mean\"],\n",
    "    train_pred_bf - bf_stats.loc[2, \"mean\"],\n",
    "], axis=1))\n",
    "model_threshold, train_pred_bf = get_best_threshold_spliter(reg_prob, train_w_bf[\"Y_Class\"].values, training=True)\n",
    "\n",
    "reg_prob = np.abs(np.stack([\n",
    "    pred_bf - bf_stats.loc[0, \"mean\"],\n",
    "    pred_bf - bf_stats.loc[1, \"mean\"],\n",
    "    pred_bf - bf_stats.loc[2, \"mean\"],\n",
    "], axis=1))\n",
    "pred_bf = get_best_threshold_spliter(reg_prob, y_true_cls=None, model=model_threshold, training=False)"
   ]
  },
  {
   "cell_type": "code",
   "execution_count": 18,
   "metadata": {},
   "outputs": [
    {
     "data": {
      "text/plain": [
       "array([1, 1, 1, 1, 1], dtype=int64)"
      ]
     },
     "execution_count": 18,
     "metadata": {},
     "output_type": "execute_result"
    }
   ],
   "source": [
    "pred_bf[:5]"
   ]
  },
  {
   "cell_type": "markdown",
   "metadata": {},
   "source": [
    "### Train after"
   ]
  },
  {
   "cell_type": "code",
   "execution_count": 19,
   "metadata": {
    "colab": {
     "base_uri": "https://localhost:8080/"
    },
    "id": "A4C5Fn91RNNZ",
    "outputId": "20f0eb85-a783-49bd-fd6c-7019c83a6a6a"
   },
   "outputs": [],
   "source": [
    "#clf = catboost.CatBoostClassifier(verbose=0,cat_features=['LINE'])\n",
    "clf.fit(train_x_af, train_y_af)\n",
    "train_pred_af = clf.predict(train_x_af)\n",
    "pred_af = clf.predict(test_x_af)"
   ]
  },
  {
   "cell_type": "code",
   "execution_count": 20,
   "metadata": {},
   "outputs": [
    {
     "data": {
      "text/plain": [
       "array([0.53182096, 0.53124195, 0.52802023, 0.53111402, 0.52105243])"
      ]
     },
     "execution_count": 20,
     "metadata": {},
     "output_type": "execute_result"
    }
   ],
   "source": [
    "train_pred_af[:5]"
   ]
  },
  {
   "cell_type": "code",
   "execution_count": 21,
   "metadata": {},
   "outputs": [
    {
     "data": {
      "text/plain": [
       "array([0.52839997, 0.53061927, 0.53045443, 0.53531625, 0.52951297])"
      ]
     },
     "execution_count": 21,
     "metadata": {},
     "output_type": "execute_result"
    }
   ],
   "source": [
    "pred_af[:5]"
   ]
  },
  {
   "cell_type": "code",
   "execution_count": 22,
   "metadata": {},
   "outputs": [
    {
     "name": "stdout",
     "output_type": "stream",
     "text": [
      "Best score : 0.9848294622305921\n",
      "Best score : 1.0\n"
     ]
    }
   ],
   "source": [
    "reg_prob = np.abs(np.stack([\n",
    "    train_pred_af - af_stats.loc[0, \"mean\"],\n",
    "    train_pred_af - af_stats.loc[1, \"mean\"],\n",
    "    train_pred_af - af_stats.loc[2, \"mean\"],\n",
    "], axis=1))\n",
    "model_threshold, train_pred_af = get_best_threshold_spliter(reg_prob, train_w_af[\"Y_Class\"].values, training=True)\n",
    "\n",
    "reg_prob = np.abs(np.stack([\n",
    "    pred_af - af_stats.loc[0, \"mean\"],\n",
    "    pred_af - af_stats.loc[1, \"mean\"],\n",
    "    pred_af - af_stats.loc[2, \"mean\"],\n",
    "], axis=1))\n",
    "pred_af = get_best_threshold_spliter(reg_prob, y_true_cls=None, model=model_threshold, training=False)"
   ]
  },
  {
   "cell_type": "code",
   "execution_count": 23,
   "metadata": {},
   "outputs": [
    {
     "data": {
      "text/plain": [
       "array([1, 1, 1, 1, 0], dtype=int64)"
      ]
     },
     "execution_count": 23,
     "metadata": {},
     "output_type": "execute_result"
    }
   ],
   "source": [
    "train_pred_af[:5]"
   ]
  },
  {
   "cell_type": "code",
   "execution_count": 24,
   "metadata": {},
   "outputs": [
    {
     "data": {
      "text/plain": [
       "array([1, 1, 1, 2, 1], dtype=int64)"
      ]
     },
     "execution_count": 24,
     "metadata": {},
     "output_type": "execute_result"
    }
   ],
   "source": [
    "pred_af[:5]"
   ]
  },
  {
   "cell_type": "markdown",
   "metadata": {},
   "source": [
    "### Submission"
   ]
  },
  {
   "cell_type": "code",
   "execution_count": 40,
   "metadata": {
    "id": "F1IzKSzJR_Sa"
   },
   "outputs": [],
   "source": [
    "submit_bf['Y_Class'] = pred_bf\n",
    "submit_af['Y_Class'] = pred_af"
   ]
  },
  {
   "cell_type": "code",
   "execution_count": 41,
   "metadata": {
    "id": "n7oG0FNcVC0g"
   },
   "outputs": [],
   "source": [
    "submit_fin = pd.concat([submit_bf, submit_af],axis=0)\n",
    "submit_fin = submit_fin.sort_values('PRODUCT_ID')\n",
    "# submit_fin['Y_Class'][submit_fin['Y_Class'] <= 0.5250761905000001] = 0\n",
    "# submit_fin['Y_Class'][submit_fin['Y_Class'] >= 0.5348968255] = 2\n",
    "# submit_fin['Y_Class'][(submit_fin['Y_Class'] > 0.5250761905000001) & (submit_fin['Y_Class'] <= 0.5348968255)] = 1\n",
    "submit_fin.to_csv('reg_1_changeseed_313_dt.csv', index=False)"
   ]
  },
  {
   "cell_type": "code",
   "execution_count": 42,
   "metadata": {
    "colab": {
     "base_uri": "https://localhost:8080/"
    },
    "id": "K3qmdGWYWNqI",
    "outputId": "b37a51f3-f617-45cc-a346-252c58cbbe66"
   },
   "outputs": [
    {
     "data": {
      "text/plain": [
       "1    413\n",
       "2     76\n",
       "0     46\n",
       "Name: Y_Class, dtype: int64"
      ]
     },
     "execution_count": 42,
     "metadata": {},
     "output_type": "execute_result"
    }
   ],
   "source": [
    "submit_fin['Y_Class'].value_counts()"
   ]
  },
  {
   "cell_type": "code",
   "execution_count": 43,
   "metadata": {
    "id": "RKbszHVCbNMF"
   },
   "outputs": [],
   "source": [
    "# import pickle\n",
    "# # 모델을 저장할 파일명 지정\n",
    "# filename = \"7091943696.pkl\"\n",
    "\n",
    "# # 모델 저장\n",
    "# with open(filename, \"wb\") as file:\n",
    "#     pickle.dump(clf, file)"
   ]
  },
  {
   "cell_type": "code",
   "execution_count": 44,
   "metadata": {
    "id": "35O-b7ktgihR"
   },
   "outputs": [
    {
     "data": {
      "text/html": [
       "<div>\n",
       "<style scoped>\n",
       "    .dataframe tbody tr th:only-of-type {\n",
       "        vertical-align: middle;\n",
       "    }\n",
       "\n",
       "    .dataframe tbody tr th {\n",
       "        vertical-align: top;\n",
       "    }\n",
       "\n",
       "    .dataframe thead th {\n",
       "        text-align: right;\n",
       "    }\n",
       "</style>\n",
       "<table border=\"1\" class=\"dataframe\">\n",
       "  <thead>\n",
       "    <tr style=\"text-align: right;\">\n",
       "      <th></th>\n",
       "      <th>PRODUCT_ID</th>\n",
       "      <th>Y_Class</th>\n",
       "    </tr>\n",
       "  </thead>\n",
       "  <tbody>\n",
       "    <tr>\n",
       "      <th>0</th>\n",
       "      <td>TEST_000</td>\n",
       "      <td>1</td>\n",
       "    </tr>\n",
       "    <tr>\n",
       "      <th>1</th>\n",
       "      <td>TEST_001</td>\n",
       "      <td>1</td>\n",
       "    </tr>\n",
       "    <tr>\n",
       "      <th>2</th>\n",
       "      <td>TEST_002</td>\n",
       "      <td>1</td>\n",
       "    </tr>\n",
       "    <tr>\n",
       "      <th>3</th>\n",
       "      <td>TEST_003</td>\n",
       "      <td>1</td>\n",
       "    </tr>\n",
       "    <tr>\n",
       "      <th>4</th>\n",
       "      <td>TEST_004</td>\n",
       "      <td>1</td>\n",
       "    </tr>\n",
       "    <tr>\n",
       "      <th>...</th>\n",
       "      <td>...</td>\n",
       "      <td>...</td>\n",
       "    </tr>\n",
       "    <tr>\n",
       "      <th>530</th>\n",
       "      <td>TEST_530</td>\n",
       "      <td>1</td>\n",
       "    </tr>\n",
       "    <tr>\n",
       "      <th>531</th>\n",
       "      <td>TEST_531</td>\n",
       "      <td>1</td>\n",
       "    </tr>\n",
       "    <tr>\n",
       "      <th>532</th>\n",
       "      <td>TEST_532</td>\n",
       "      <td>1</td>\n",
       "    </tr>\n",
       "    <tr>\n",
       "      <th>533</th>\n",
       "      <td>TEST_533</td>\n",
       "      <td>1</td>\n",
       "    </tr>\n",
       "    <tr>\n",
       "      <th>534</th>\n",
       "      <td>TEST_534</td>\n",
       "      <td>1</td>\n",
       "    </tr>\n",
       "  </tbody>\n",
       "</table>\n",
       "<p>535 rows × 2 columns</p>\n",
       "</div>"
      ],
      "text/plain": [
       "    PRODUCT_ID  Y_Class\n",
       "0     TEST_000        1\n",
       "1     TEST_001        1\n",
       "2     TEST_002        1\n",
       "3     TEST_003        1\n",
       "4     TEST_004        1\n",
       "..         ...      ...\n",
       "530   TEST_530        1\n",
       "531   TEST_531        1\n",
       "532   TEST_532        1\n",
       "533   TEST_533        1\n",
       "534   TEST_534        1\n",
       "\n",
       "[535 rows x 2 columns]"
      ]
     },
     "execution_count": 44,
     "metadata": {},
     "output_type": "execute_result"
    }
   ],
   "source": [
    "submit_fin"
   ]
  },
  {
   "cell_type": "code",
   "execution_count": null,
   "metadata": {
    "id": "RakH9x6JfmBs"
   },
   "outputs": [],
   "source": []
  },
  {
   "cell_type": "code",
   "execution_count": null,
   "metadata": {},
   "outputs": [],
   "source": []
  }
 ],
 "metadata": {
  "colab": {
   "provenance": []
  },
  "kernelspec": {
   "display_name": "Python 3 (ipykernel)",
   "language": "python",
   "name": "python3"
  },
  "language_info": {
   "codemirror_mode": {
    "name": "ipython",
    "version": 3
   },
   "file_extension": ".py",
   "mimetype": "text/x-python",
   "name": "python",
   "nbconvert_exporter": "python",
   "pygments_lexer": "ipython3",
   "version": "3.9.16"
  }
 },
 "nbformat": 4,
 "nbformat_minor": 1
}
